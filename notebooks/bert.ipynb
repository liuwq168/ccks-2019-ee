{
 "cells": [
  {
   "cell_type": "markdown",
   "metadata": {},
   "source": [
    "> 参考 https://github.com/bojone/bert_in_keras/blob/master/subject_extract.py"
   ]
  },
  {
   "cell_type": "code",
   "execution_count": null,
   "metadata": {},
   "outputs": [],
   "source": [
    "import json\n",
    "from tqdm import tqdm\n",
    "import os, re\n",
    "import numpy as np\n",
    "import pandas as pd\n",
    "from keras_bert import load_trained_model_from_checkpoint, Tokenizer\n",
    "import codecs"
   ]
  },
  {
   "cell_type": "code",
   "execution_count": null,
   "metadata": {},
   "outputs": [],
   "source": [
    "mode = 0\n",
    "maxlen = 256\n",
    "learning_rate = 5e-5\n",
    "min_learning_rate = 1e-5"
   ]
  },
  {
   "cell_type": "code",
   "execution_count": null,
   "metadata": {},
   "outputs": [],
   "source": [
    "config_path = '../data/bert/chinese_L-12_H-768_A-12/bert_config.json'\n",
    "checkpoint_path = '../data/bert/chinese_L-12_H-768_A-12/bert_model.ckpt'\n",
    "dict_path = '../data/bert/chinese_L-12_H-768_A-12/vocab.txt'"
   ]
  },
  {
   "cell_type": "code",
   "execution_count": null,
   "metadata": {},
   "outputs": [],
   "source": [
    "token_dict = {}\n",
    "\n",
    "with codecs.open(dict_path, 'r', 'utf8') as reader:\n",
    "    for line in reader:\n",
    "        token = line.strip()\n",
    "        token_dict[token] = len(token_dict)\n",
    "\n",
    "\n",
    "# class OurTokenizer(Tokenizer):\n",
    "#     def _tokenize(self, text):\n",
    "#         R = []\n",
    "#         items = re.split(\"[\\{\\}]\", text)\n",
    "#         unused_count = 2\n",
    "#         for item in items:\n",
    "#             if item.startswith('DATE') or item.startswith('NUM'):\n",
    "#                 c = '[unused%d]' % (unused_count)\n",
    "#                 unused_count += 1\n",
    "#                 R.append(c)\n",
    "#             else:\n",
    "#                 for c in item:\n",
    "#                     if c in self._token_dict:\n",
    "#                         R.append(c)\n",
    "#                     elif self._is_space(c):\n",
    "#                         R.append('[unused1]') # space类用未经训练的[unused1]表示\n",
    "#                     else:\n",
    "#                         R.append('[UNK]') # 剩余的字符是[UNK]\n",
    "#         return R\n",
    "\n",
    "class OurTokenizer(Tokenizer):\n",
    "    def _tokenize(self, text):\n",
    "        R = []\n",
    "        for c in text:\n",
    "            if c in self._token_dict:\n",
    "                R.append(c)\n",
    "            elif self._is_space(c):\n",
    "                R.append('[unused1]') # space类用未经训练的[unused1]表示\n",
    "            else:\n",
    "                R.append('[UNK]') # 剩余的字符是[UNK]\n",
    "        return R\n",
    "\n",
    "tokenizer = OurTokenizer(token_dict)"
   ]
  },
  {
   "cell_type": "code",
   "execution_count": null,
   "metadata": {},
   "outputs": [],
   "source": [
    "# tokenizer.tokenize(\"因 {DATE}公司转增股本，泰怡凱拟通过二级市场集中竞价交易、大宗交易减持股份数量相应调整为合计不超过 {NUM_1} 股，即不超过公司目前总股本的 {NUM_2}。\")"
   ]
  },
  {
   "cell_type": "code",
   "execution_count": null,
   "metadata": {},
   "outputs": [],
   "source": [
    "D = pd.read_csv('../temp/cat_train.csv', encoding='utf-8', header=None)\n",
    "D = D[D[2] != u'其他']\n",
    "classes = set(D[2].unique())"
   ]
  },
  {
   "cell_type": "code",
   "execution_count": null,
   "metadata": {},
   "outputs": [],
   "source": [
    "print(classes)"
   ]
  },
  {
   "cell_type": "code",
   "execution_count": null,
   "metadata": {},
   "outputs": [],
   "source": [
    "train_data = []\n",
    "for t,c,n in zip(D[1], D[2], D[3]):\n",
    "    train_data.append((t, c, n))\n",
    "\n",
    "\n",
    "if not os.path.exists('../temp/random_order_train.json'):\n",
    "    random_order = list(range(len(train_data)))\n",
    "    np.random.shuffle(random_order)\n",
    "    json.dump(\n",
    "        random_order,\n",
    "        open('../temp/random_order_train.json', 'w'),\n",
    "        indent=4\n",
    "    )\n",
    "else:\n",
    "    random_order = json.load(open('../temp/random_order_train.json'))"
   ]
  },
  {
   "cell_type": "code",
   "execution_count": null,
   "metadata": {},
   "outputs": [],
   "source": [
    "# train_data"
   ]
  },
  {
   "cell_type": "code",
   "execution_count": null,
   "metadata": {},
   "outputs": [],
   "source": [
    "dev_data = [train_data[j] for i, j in enumerate(random_order) if i % 9 == mode]\n",
    "train_data = [train_data[j] for i, j in enumerate(random_order) if i % 9 != mode]\n",
    "additional_chars = set()\n",
    "for d in train_data + dev_data:\n",
    "    additional_chars.update(re.findall(u'[^\\u4e00-\\u9fa5a-zA-Z0-9\\*]', d[2]))\n",
    "\n",
    "additional_chars.remove('，')"
   ]
  },
  {
   "cell_type": "code",
   "execution_count": null,
   "metadata": {},
   "outputs": [],
   "source": [
    "additional_chars"
   ]
  },
  {
   "cell_type": "code",
   "execution_count": null,
   "metadata": {},
   "outputs": [],
   "source": [
    "D = pd.read_csv('../temp/cat_eval.csv', encoding='utf-8', header=None)\n",
    "test_data = []\n",
    "for id,t,c in zip(D[0], D[1], D[2]):\n",
    "    test_data.append((id, t, c))"
   ]
  },
  {
   "cell_type": "code",
   "execution_count": null,
   "metadata": {},
   "outputs": [],
   "source": [
    "train_data[0]"
   ]
  },
  {
   "cell_type": "code",
   "execution_count": null,
   "metadata": {},
   "outputs": [],
   "source": [
    "tokenizer.tokenize('勤上光电')"
   ]
  },
  {
   "cell_type": "code",
   "execution_count": null,
   "metadata": {},
   "outputs": [],
   "source": [
    "def seq_padding(X, padding=0):\n",
    "    L = [len(x) for x in X]\n",
    "    ML = max(L)\n",
    "    return np.array([\n",
    "        np.concatenate([x, [padding] * (ML - len(x))]) if len(x) < ML else x for x in X\n",
    "    ])\n",
    "\n",
    "\n",
    "def list_find(list1, list2):\n",
    "    \"\"\"在list1中寻找子串list2，如果找到，返回第一个下标；\n",
    "    如果找不到，返回-1。\n",
    "    \"\"\"\n",
    "    n_list2 = len(list2)\n",
    "    for i in range(len(list1)):\n",
    "        if list1[i: i+n_list2] == list2:\n",
    "            return i\n",
    "    return -1\n",
    "\n",
    "\n",
    "class data_generator:\n",
    "    def __init__(self, data, batch_size=32):\n",
    "        self.data = data\n",
    "        self.batch_size = batch_size\n",
    "        self.steps = len(self.data) // self.batch_size\n",
    "        if len(self.data) % self.batch_size != 0:\n",
    "            self.steps += 1\n",
    "    def __len__(self):\n",
    "        return self.steps\n",
    "    def __iter__(self):\n",
    "        while True:\n",
    "            idxs = list(range(len(self.data)))\n",
    "            np.random.shuffle(idxs)\n",
    "            X1, X2, S1, S2 = [], [], [], []\n",
    "            for i in idxs:\n",
    "                d = self.data[i]\n",
    "                text, c = d[0][:maxlen], d[1]\n",
    "                text = '___%s___%s' % (c, text)\n",
    "                tokens = tokenizer.tokenize(text)\n",
    "                e = d[2]\n",
    "                e_tokens = tokenizer.tokenize(e)[1:-1]\n",
    "                s1, s2 = np.zeros(len(tokens)), np.zeros(len(tokens))\n",
    "                start = list_find(tokens, e_tokens)\n",
    "                if start != -1:\n",
    "                    end = start + len(e_tokens) - 1\n",
    "                else:\n",
    "                    start = len(e_tokens) -1\n",
    "                    end = len(e_tokens) - 1\n",
    "                    \n",
    "                s1[start] = 1\n",
    "                s2[end] = 1\n",
    "                x1, x2 = tokenizer.encode(first=text)\n",
    "                X1.append(x1)\n",
    "                X2.append(x2)\n",
    "                S1.append(s1)\n",
    "                S2.append(s2)\n",
    "                if len(X1) == self.batch_size or i == idxs[-1]:\n",
    "                    X1 = seq_padding(X1)\n",
    "                    X2 = seq_padding(X2)\n",
    "                    S1 = seq_padding(S1)\n",
    "                    S2 = seq_padding(S2)\n",
    "                    yield [X1, X2, S1, S2], None\n",
    "                    X1, X2, S1, S2 = [], [], [], []"
   ]
  },
  {
   "cell_type": "code",
   "execution_count": null,
   "metadata": {},
   "outputs": [],
   "source": [
    "from keras.layers import *\n",
    "from keras.models import Model\n",
    "import keras.backend as K\n",
    "from keras.callbacks import Callback\n",
    "from keras.optimizers import Adam"
   ]
  },
  {
   "cell_type": "code",
   "execution_count": null,
   "metadata": {},
   "outputs": [],
   "source": [
    "import tensorflow as tf\n",
    "from keras.backend.tensorflow_backend import set_session\n",
    "config = tf.ConfigProto()\n",
    "config.gpu_options.allow_growth = True  # dynamically grow the memory used on the GPU\n",
    "config.log_device_placement = True  # to log device placement (on which device the operation ran)\n",
    "                                    # (nothing gets printed in Jupyter, only if you run it standalone)\n",
    "sess = tf.Session(config=config)\n",
    "set_session(sess)  # set this TensorFlow session as the default session for Keras"
   ]
  },
  {
   "cell_type": "code",
   "execution_count": null,
   "metadata": {},
   "outputs": [],
   "source": [
    "bert_model = load_trained_model_from_checkpoint(\n",
    "    config_file=config_path,\n",
    "    checkpoint_file=checkpoint_path,\n",
    "    training=False,\n",
    "    trainable=True,\n",
    "    use_task_embed=True,\n",
    "    task_num=10,\n",
    "    seq_len=None\n",
    ")\n",
    "\n",
    "\n",
    "# bert_model = load_trained_model_from_checkpoint(config_path, \n",
    "#                                                 checkpoint_path, \n",
    "#                                                 seq_len=None)\n",
    "\n",
    "for l in bert_model.layers:\n",
    "    l.trainable = True\n",
    "\n",
    "\n",
    "x1_in = Input(shape=(None,)) # 待识别句子输入\n",
    "x2_in = Input(shape=(None,)) # 待识别句子输入\n",
    "s1_in = Input(shape=(None,)) # 实体左边界（标签）\n",
    "s2_in = Input(shape=(None,)) # 实体右边界（标签）\n",
    "\n",
    "x1, x2, s1, s2 = x1_in, x2_in, s1_in, s2_in\n",
    "x_mask = Lambda(lambda x: K.cast(K.greater(K.expand_dims(x, 2), 0), 'float32'))(x1)\n",
    "\n",
    "x = bert_model([x1, x2])\n",
    "ps1 = Dense(1, use_bias=False)(x)\n",
    "ps1 = Lambda(lambda x: x[0][..., 0] - (1 - x[1][..., 0]) * 1e10)([ps1, x_mask])\n",
    "ps2 = Dense(1, use_bias=False)(x)\n",
    "ps2 = Lambda(lambda x: x[0][..., 0] - (1 - x[1][..., 0]) * 1e10)([ps2, x_mask])"
   ]
  },
  {
   "cell_type": "code",
   "execution_count": null,
   "metadata": {},
   "outputs": [],
   "source": [
    "model = Model([x1_in, x2_in], [ps1, ps2])\n",
    "\n",
    "\n",
    "train_model = Model([x1_in, x2_in, s1_in, s2_in], [ps1, ps2])\n",
    "\n",
    "loss1 = K.mean(K.categorical_crossentropy(s1_in, ps1, from_logits=True))\n",
    "ps2 -= (1 - K.cumsum(s1, 1)) * 1e10\n",
    "loss2 = K.mean(K.categorical_crossentropy(s2_in, ps2, from_logits=True))\n",
    "loss = loss1 + loss2\n",
    "\n",
    "train_model.add_loss(loss)\n",
    "train_model.compile(optimizer=Adam(learning_rate))\n",
    "train_model.summary()"
   ]
  },
  {
   "cell_type": "code",
   "execution_count": null,
   "metadata": {},
   "outputs": [],
   "source": [
    "def softmax(x):\n",
    "    x = x - np.max(x)\n",
    "    x = np.exp(x)\n",
    "    return x / np.sum(x)"
   ]
  },
  {
   "cell_type": "code",
   "execution_count": null,
   "metadata": {},
   "outputs": [],
   "source": [
    "def extract_entity(text_in, c_in):\n",
    "    if c_in not in classes:\n",
    "        return 'NaN'\n",
    "    text_in = '___%s___%s' % (c_in, text_in)\n",
    "    text_in = text_in[:510]\n",
    "    _tokens = tokenizer.tokenize(text_in)\n",
    "    _x1, _x2 = tokenizer.encode(first=text_in)\n",
    "    _x1, _x2 = np.array([_x1]), np.array([_x2])\n",
    "    _ps1, _ps2  = model.predict([_x1, _x2])\n",
    "    _ps1, _ps2 = softmax(_ps1[0]), softmax(_ps2[0])\n",
    "    for i, _t in enumerate(_tokens):\n",
    "        if len(_t) == 1 and re.findall(u'[^\\u4e00-\\u9fa5a-zA-Z0-9\\*]', _t) and _t not in additional_chars:\n",
    "            _ps1[i] -= 10\n",
    "    start = _ps1.argmax()\n",
    "    for end in range(start, len(_tokens)):\n",
    "        _t = _tokens[end]\n",
    "        if len(_t) == 1 and re.findall(u'[^\\u4e00-\\u9fa5a-zA-Z0-9\\*]', _t) and _t not in additional_chars:\n",
    "            break\n",
    "    end = _ps2[start:end+1].argmax() + start\n",
    "    a = text_in[start-1: end]\n",
    "#     print(text_in)\n",
    "#     print(start-1, end)\n",
    "#     print(text_in[:start-1])\n",
    "    return a"
   ]
  },
  {
   "cell_type": "code",
   "execution_count": null,
   "metadata": {},
   "outputs": [],
   "source": [
    "class Evaluate(Callback):\n",
    "    def __init__(self):\n",
    "        self.ACC = []\n",
    "        self.best = 0.\n",
    "        self.passed = 0\n",
    "    def on_batch_begin(self, batch, logs=None):\n",
    "        \"\"\"第一个epoch用来warmup，第二个epoch把学习率降到最低\n",
    "        \"\"\"\n",
    "        if self.passed < self.params['steps']:\n",
    "            lr = (self.passed + 1.) / self.params['steps'] * learning_rate\n",
    "            K.set_value(self.model.optimizer.lr, lr)\n",
    "            self.passed += 1\n",
    "        elif self.params['steps'] <= self.passed < self.params['steps'] * 2:\n",
    "            lr = (2 - (self.passed + 1.) / self.params['steps']) * (learning_rate - min_learning_rate)\n",
    "            lr += min_learning_rate\n",
    "            K.set_value(self.model.optimizer.lr, lr)\n",
    "            self.passed += 1\n",
    "    def on_epoch_end(self, epoch, logs=None):\n",
    "        acc = self.evaluate()\n",
    "        self.ACC.append(acc)\n",
    "        if acc > self.best:\n",
    "            self.best = acc\n",
    "            train_model.save_weights('../models/bert_best_model.weights')\n",
    "        print('acc: %.4f, best acc: %.4f\\n' % (acc, self.best))\n",
    "    def evaluate(self):\n",
    "        A = 1e-10\n",
    "        with open('../temp/dev_pred.json', 'w', encoding='utf-8')as F:\n",
    "            for d in tqdm(iter(dev_data)):\n",
    "                R = extract_entity(d[0], d[1])\n",
    "                if R == d[2]:\n",
    "                    A += 1\n",
    "                s = ', '.join(d)\n",
    "                s += ', '\n",
    "                s += R\n",
    "                F.write(s + '\\n')\n",
    "        return A / len(dev_data)"
   ]
  },
  {
   "cell_type": "code",
   "execution_count": null,
   "metadata": {},
   "outputs": [],
   "source": [
    "def test(test_data):\n",
    "    \"\"\"注意官方页面写着是以\\t分割，实际上却是以逗号分割\n",
    "    \"\"\"\n",
    "    with open('../temp/result.txt', 'w', encoding='utf-8') as F:\n",
    "        for d in tqdm(iter(test_data)):\n",
    "            s = '\"%s\",\"%s\"\\n' % (d[0], extract_entity(d[1].replace('\\t', ''), d[2]))\n",
    "            F.write(s)"
   ]
  },
  {
   "cell_type": "code",
   "execution_count": null,
   "metadata": {},
   "outputs": [],
   "source": [
    "evaluator = Evaluate()\n",
    "train_D = data_generator(train_data)"
   ]
  },
  {
   "cell_type": "code",
   "execution_count": null,
   "metadata": {},
   "outputs": [],
   "source": [
    "train_model.fit_generator(train_D.__iter__(),\n",
    "                              steps_per_epoch=len(train_D),\n",
    "                              epochs=100,\n",
    "                              callbacks=[evaluator]\n",
    "                             )"
   ]
  },
  {
   "cell_type": "code",
   "execution_count": null,
   "metadata": {},
   "outputs": [],
   "source": [
    "train_model.load_weights('../models/bert_best_model.weights')"
   ]
  },
  {
   "cell_type": "code",
   "execution_count": null,
   "metadata": {},
   "outputs": [],
   "source": [
    "extract_entity(\"因个人原因，杨永平先生申请辞去所担任的董事、总经理、战略与投资管理委员会委员等职务。\",\n",
    "               \"担任__时间\")"
   ]
  },
  {
   "cell_type": "code",
   "execution_count": null,
   "metadata": {},
   "outputs": [],
   "source": [
    "test(test_data)"
   ]
  },
  {
   "cell_type": "code",
   "execution_count": null,
   "metadata": {},
   "outputs": [],
   "source": []
  }
 ],
 "metadata": {
  "kernelspec": {
   "display_name": "Python 3",
   "language": "python",
   "name": "python3"
  },
  "language_info": {
   "codemirror_mode": {
    "name": "ipython",
    "version": 3
   },
   "file_extension": ".py",
   "mimetype": "text/x-python",
   "name": "python",
   "nbconvert_exporter": "python",
   "pygments_lexer": "ipython3",
   "version": "3.6.2"
  }
 },
 "nbformat": 4,
 "nbformat_minor": 4
}
