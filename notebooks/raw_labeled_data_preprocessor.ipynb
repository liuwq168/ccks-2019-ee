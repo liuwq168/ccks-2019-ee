{
 "cells": [
  {
   "cell_type": "code",
   "execution_count": null,
   "metadata": {},
   "outputs": [],
   "source": [
    "import pandas as pd\n",
    "# from flashtext import KeywordProcessor\n",
    "# from bs4 import BeautifulSoup\n",
    "# import requests\n",
    "# from pypac import PACSession, get_pac\n",
    "from tqdm import tqdm_notebook as tqdm\n",
    "import sklearn\n",
    "from sklearn.model_selection import train_test_split\n",
    "from sklearn.utils import shuffle\n",
    "# import dask.dataframe as dd\n",
    "# import fastText\n",
    "# from sklearn.metrics import precision_recall_fscore_support, confusion_matrix, classification_report\n",
    "import numpy as np\n",
    "import joblib\n",
    "# import torch\n",
    "# from torch import autograd\n",
    "from os.path import isfile\n",
    "import re\n",
    "from time import time\n",
    "from scipy import spatial\n",
    "import random as rand\n",
    "from random import random\n",
    "import numpy as np\n",
    "import math\n",
    "import matplotlib.pyplot as plt\n",
    "import json\n",
    "\n",
    "tqdm().pandas()"
   ]
  },
  {
   "cell_type": "code",
   "execution_count": null,
   "metadata": {},
   "outputs": [],
   "source": [
    "import json\n",
    "import codecs\n",
    "\n",
    "new_labeled_data = json.load(codecs.open('../data/testData.json', 'r', 'utf-8-sig'))\n"
   ]
  },
  {
   "cell_type": "code",
   "execution_count": null,
   "metadata": {},
   "outputs": [],
   "source": [
    "new_labeled_data = new_labeled_data['rasa_nlu_data']['common_examples']"
   ]
  },
  {
   "cell_type": "code",
   "execution_count": null,
   "metadata": {},
   "outputs": [],
   "source": [
    "new_labeled_data[0]"
   ]
  },
  {
   "cell_type": "code",
   "execution_count": null,
   "metadata": {},
   "outputs": [],
   "source": [
    "new_label_df = []\n",
    "for t in new_labeled_data:\n",
    "    intent = t['intent']\n",
    "    sentence = t['text']\n",
    "    entity_map = {}\n",
    "    for entity in t['entities']:\n",
    "        new_label_df.append({\n",
    "            'sentence': sentence,\n",
    "            'query': intent+'__'+ entity['entity'],\n",
    "            'answer': entity['value']\n",
    "        })"
   ]
  },
  {
   "cell_type": "code",
   "execution_count": null,
   "metadata": {},
   "outputs": [],
   "source": [
    "new_label_df = pd.DataFrame(new_label_df)"
   ]
  },
  {
   "cell_type": "code",
   "execution_count": null,
   "metadata": {},
   "outputs": [],
   "source": [
    "new_label_df.head()"
   ]
  },
  {
   "cell_type": "code",
   "execution_count": null,
   "metadata": {},
   "outputs": [],
   "source": [
    "new_label_df['id'] = new_label_df.index"
   ]
  },
  {
   "cell_type": "code",
   "execution_count": null,
   "metadata": {},
   "outputs": [],
   "source": [
    "new_label_df.head()"
   ]
  },
  {
   "cell_type": "markdown",
   "metadata": {},
   "source": [
    "# read original data"
   ]
  },
  {
   "cell_type": "code",
   "execution_count": null,
   "metadata": {},
   "outputs": [],
   "source": [
    "new_label_train, new_label_eval = train_test_split(new_label_df, test_size=0.3)"
   ]
  },
  {
   "cell_type": "code",
   "execution_count": null,
   "metadata": {},
   "outputs": [],
   "source": [
    "original_train_df = pd.read_csv(\"../data/event_type_entity_extract_train.csv\", names=['id', 'sentence', 'query', 'answer'])"
   ]
  },
  {
   "cell_type": "code",
   "execution_count": null,
   "metadata": {},
   "outputs": [],
   "source": [
    "updated_train_df = pd.concat([new_label_df, original_train_df], axis=0)"
   ]
  },
  {
   "cell_type": "code",
   "execution_count": null,
   "metadata": {},
   "outputs": [],
   "source": [
    "updated_train_df.to_csv(\"../data/cat_train.csv\", index=False, header=False, columns=['id', 'sentence', 'query', 'answer'])"
   ]
  },
  {
   "cell_type": "code",
   "execution_count": null,
   "metadata": {},
   "outputs": [],
   "source": [
    "new_label_eval.to_csv(\"../data/cat_eval.csv\", index=False, header=False, columns=['id', 'sentence', 'query', 'answer'])"
   ]
  },
  {
   "cell_type": "code",
   "execution_count": null,
   "metadata": {},
   "outputs": [],
   "source": []
  }
 ],
 "metadata": {
  "kernelspec": {
   "display_name": "Python 3",
   "language": "python",
   "name": "python3"
  },
  "language_info": {
   "codemirror_mode": {
    "name": "ipython",
    "version": 3
   },
   "file_extension": ".py",
   "mimetype": "text/x-python",
   "name": "python",
   "nbconvert_exporter": "python",
   "pygments_lexer": "ipython3",
   "version": "3.6.9"
  }
 },
 "nbformat": 4,
 "nbformat_minor": 4
}
